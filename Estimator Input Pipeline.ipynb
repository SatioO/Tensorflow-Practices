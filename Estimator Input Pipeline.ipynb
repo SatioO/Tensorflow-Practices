{
 "cells": [
  {
   "cell_type": "code",
   "execution_count": 1,
   "metadata": {
    "collapsed": true
   },
   "outputs": [],
   "source": [
    "import tensorflow as tf\n",
    "import os"
   ]
  },
  {
   "cell_type": "code",
   "execution_count": 4,
   "metadata": {},
   "outputs": [],
   "source": [
    "PATH = './practice_data_competition'\n",
    "TRAIN_FILE = PATH + os.sep + 'train.csv'\n",
    "TEST_FILE = PATH + os.sep + 'test.csv'"
   ]
  },
  {
   "cell_type": "code",
   "execution_count": 84,
   "metadata": {
    "collapsed": true
   },
   "outputs": [],
   "source": [
    "feature_names = ['ID', 'datetime', 'siteid', 'offerid', 'category', 'merchant', 'countrycode', 'browserid', 'devid', 'click']"
   ]
  },
  {
   "cell_type": "code",
   "execution_count": 147,
   "metadata": {},
   "outputs": [],
   "source": [
    "sess = tf.InteractiveSession()\n",
    "\n",
    "def decode_data(line):\n",
    "    record_defaults = [[''], [''], [0.], [0.], [0.], [0.], [''], [''], [''], [0.]]\n",
    "    parsed_line = tf.decode_csv(line, record_defaults)\n",
    "    \n",
    "    label = parsed_line[-1:]\n",
    "    del parsed_line[-1]\n",
    "    \n",
    "    features = parsed_line\n",
    "    d = dict(zip(feature_names, features)), label\n",
    "    \n",
    "    return d\n",
    "\n",
    "dataset = tf.contrib.data \\\n",
    "        .TextLineDataset(TRAIN_FILE) \\\n",
    "        .skip(1) \\\n",
    "        .map(decode_data)\n",
    "\n",
    "# Shuffle dataset\n",
    "shuffle_dataset = dataset.shuffle(buffer_size=256)\n",
    "# batch dataset\n",
    "batched_dataset = shuffle_dataset.batch(4)\n",
    "\n",
    "iterator = batched_dataset.make_one_shot_iterator()\n",
    "next_element = iterator.get_next()"
   ]
  },
  {
   "cell_type": "code",
   "execution_count": 148,
   "metadata": {},
   "outputs": [
    {
     "name": "stdout",
     "output_type": "stream",
     "text": [
      "({'siteid': array([ 8856661.,  8565335.,  1759885.,  3843002.], dtype=float32), 'datetime': array([b'2017-01-14 16:30:38', b'2017-01-20 10:54:49',\n",
      "       b'2017-01-20 17:14:40', b'2017-01-14 12:08:51'], dtype=object), 'browserid': array([b'InternetExplorer', b'Edge', b'Mozilla', b'Chrome'], dtype=object), 'countrycode': array([b'f', b'f', b'b', b'b'], dtype=object), 'offerid': array([ 102788.,  972830.,  984520.,   39284.], dtype=float32), 'ID': array([b'IDZQbXZkR', b'IDKfLne0C', b'IDUnjagBn', b'ID7z86GNh'], dtype=object), 'category': array([  6906.,  15912.,  92704.,   6906.], dtype=float32), 'devid': array([b'Desktop', b'', b'Desktop', b'Desktop'], dtype=object), 'merchant': array([ 99510048.,   7864011.,  47079936.,  99510048.], dtype=float32)}, array([[ 0.],\n",
      "       [ 0.],\n",
      "       [ 0.],\n",
      "       [ 0.]], dtype=float32))\n",
      "({'siteid': array([  894468.,  1997232.,    48650.,  7811819.], dtype=float32), 'datetime': array([b'2017-01-13 14:58:23', b'2017-01-19 17:20:47',\n",
      "       b'2017-01-17 12:45:26', b'2017-01-19 16:19:42'], dtype=object), 'browserid': array([b'Mozilla Firefox', b'Edge', b'Edge', b'Firefox'], dtype=object), 'countrycode': array([b'b', b'b', b'b', b'c'], dtype=object), 'offerid': array([ 254522.,  126098.,  746289.,  435573.], dtype=float32), 'ID': array([b'IDDzLRqpH', b'IDoKzgUuS', b'IDTERaNhD', b'IDa4YoBTD'], dtype=object), 'category': array([ 17714.,  84974.,  81229.,  97863.], dtype=float32), 'devid': array([b'Desktop', b'Tablet', b'Tablet', b''], dtype=object), 'merchant': array([ 74363608.,  48626108.,  35819608.,  87807328.], dtype=float32)}, array([[ 0.],\n",
      "       [ 0.],\n",
      "       [ 0.],\n",
      "       [ 0.]], dtype=float32))\n",
      "({'siteid': array([ 2882003.,   544633.,  5561333.,  7641490.], dtype=float32), 'datetime': array([b'2017-01-17 16:11:36', b'2017-01-18 17:58:58',\n",
      "       b'2017-01-11 10:24:19', b'2017-01-14 07:40:53'], dtype=object), 'browserid': array([b'Edge', b'Firefox', b'Edge', b'IE'], dtype=object), 'countrycode': array([b'a', b'b', b'a', b'e'], dtype=object), 'offerid': array([ 403880.,  462487.,  767563.,  211710.], dtype=float32), 'ID': array([b'IDWlCtXme', b'IDJGmLHdm', b'ID7gSMTvy', b'IDoXx9KM9'], dtype=object), 'category': array([ 26849.,   9764.,  73362.,  42227.], dtype=float32), 'devid': array([b'Tablet', b'', b'Tablet', b'Mobile'], dtype=object), 'merchant': array([ 43770448.,  50595884.,  26461536.,  18243870.], dtype=float32)}, array([[ 0.],\n",
      "       [ 0.],\n",
      "       [ 0.],\n",
      "       [ 0.]], dtype=float32))\n",
      "({'siteid': array([ 6019895.,  7641490.,  4096480.,  5635120.], dtype=float32), 'datetime': array([b'2017-01-15 04:37:25', b'2017-01-14 07:59:16',\n",
      "       b'2017-01-14 16:10:54', b'2017-01-14 16:02:33'], dtype=object), 'browserid': array([b'Mozilla', b'Firefox', b'Firefox', b'Mozilla Firefox'], dtype=object), 'countrycode': array([b'b', b'd', b'a', b'd'], dtype=object), 'offerid': array([ 712450.,  457330.,  400296.,  472937.], dtype=float32), 'ID': array([b'IDZUI4aBn', b'IDNAt9hJQ', b'IDxSDD6RW', b'IDqUShzMg'], dtype=object), 'category': array([ 96184.,  42227.,   5602.,  12052.], dtype=float32), 'devid': array([b'Desktop', b'', b'Mobile', b'Desktop'], dtype=object), 'merchant': array([ 93157824.,  43770448.,  16622107.,  39507200.], dtype=float32)}, array([[ 0.],\n",
      "       [ 0.],\n",
      "       [ 0.],\n",
      "       [ 0.]], dtype=float32))\n",
      "({'siteid': array([  296842.,  6549547.,  4653829.,  7331690.], dtype=float32), 'datetime': array([b'2017-01-10 05:41:03', b'2017-01-12 10:36:45',\n",
      "       b'2017-01-20 17:47:34', b'2017-01-13 15:09:12'], dtype=object), 'browserid': array([b'Edge', b'Firefox', b'Firefox', b'IE'], dtype=object), 'countrycode': array([b'a', b'b', b'b', b'b'], dtype=object), 'offerid': array([ 921202.,  806710.,  809337.,  227709.], dtype=float32), 'ID': array([b'IDwOXobx7', b'IDWmnKCkK', b'IDkdwAHMN', b'IDolVuNmC'], dtype=object), 'category': array([   904.,  17714.,  42227.,  29711.], dtype=float32), 'devid': array([b'Tablet', b'Mobile', b'', b'Mobile'], dtype=object), 'merchant': array([ 94350424.,  74868704.,   1189152.,  20301556.], dtype=float32)}, array([[ 0.],\n",
      "       [ 0.],\n",
      "       [ 0.],\n",
      "       [ 0.]], dtype=float32))\n",
      "({'siteid': array([ 2116058.,        0.,  8064106.,  6867752.], dtype=float32), 'datetime': array([b'2017-01-18 13:00:54', b'2017-01-12 17:10:18',\n",
      "       b'2017-01-17 15:52:38', b'2017-01-18 12:41:24'], dtype=object), 'browserid': array([b'Edge', b'Mozilla Firefox', b'Firefox', b'Firefox'], dtype=object), 'countrycode': array([b'c', b'b', b'd', b'c'], dtype=object), 'offerid': array([ 376073.,  332476.,  362218.,  779655.], dtype=float32), 'ID': array([b'IDeFBJfzG', b'IDAwfXP2y', b'IDTtJ5QnQ', b'IDkONqejh'], dtype=object), 'category': array([ 15912.,  45620.,  14345.,  76239.], dtype=float32), 'devid': array([b'Tablet', b'Desktop', b'Mobile', b''], dtype=object), 'merchant': array([ 30860214.,  31388980.,    555603.,  16150900.], dtype=float32)}, array([[ 0.],\n",
      "       [ 0.],\n",
      "       [ 0.],\n",
      "       [ 0.]], dtype=float32))\n",
      "({'siteid': array([ 6317686.,        0.,  1634962.,        0.], dtype=float32), 'datetime': array([b'2017-01-10 17:27:57', b'2017-01-17 11:39:20',\n",
      "       b'2017-01-13 15:31:11', b'2017-01-20 10:47:03'], dtype=object), 'browserid': array([b'Firefox', b'Firefox', b'Mozilla', b'InternetExplorer'], dtype=object), 'countrycode': array([b'c', b'f', b'b', b'e'], dtype=object), 'offerid': array([ 324090.,  422178.,  444003.,   32753.], dtype=float32), 'ID': array([b'IDH5yZJtF', b'IDDZFWGHE', b'IDflmMxXm', b'IDiPjZdpp'], dtype=object), 'category': array([ 99178.,  95113.,    904.,   1678.], dtype=float32), 'devid': array([b'Mobile', b'Mobile', b'Desktop', b'Desktop'], dtype=object), 'merchant': array([  6171136.,  92640312.,  74363608.,  61940784.], dtype=float32)}, array([[ 0.],\n",
      "       [ 0.],\n",
      "       [ 0.],\n",
      "       [ 0.]], dtype=float32))\n",
      "({'siteid': array([ 4805556.,        0.,  7578086.,  5042966.], dtype=float32), 'datetime': array([b'2017-01-18 15:44:59', b'2017-01-18 17:56:46',\n",
      "       b'2017-01-11 14:26:34', b'2017-01-15 12:17:05'], dtype=object), 'browserid': array([b'Firefox', b'Edge', b'Firefox', b'Edge'], dtype=object), 'countrycode': array([b'b', b'b', b'f', b'a'], dtype=object), 'offerid': array([ 151848.,  177337.,   57327.,  544837.], dtype=float32), 'ID': array([b'IDqjTwwuL', b'IDWEWGPNC', b'IDSBUxYhm', b'ID7mSYarE'], dtype=object), 'category': array([ 30580.,   6906.,  92704.,  54125.], dtype=float32), 'devid': array([b'', b'Tablet', b'', b'Tablet'], dtype=object), 'merchant': array([  9389473.,  71165568.,  51545768.,    555603.], dtype=float32)}, array([[ 0.],\n",
      "       [ 0.],\n",
      "       [ 0.],\n",
      "       [ 0.]], dtype=float32))\n",
      "({'siteid': array([ 6240846.,  7361873.,  1757906.,        0.], dtype=float32), 'datetime': array([b'2017-01-12 14:29:20', b'2017-01-13 13:06:54',\n",
      "       b'2017-01-15 10:35:06', b'2017-01-15 11:06:27'], dtype=object), 'browserid': array([b'IE', b'Firefox', b'Mozilla', b'Edge'], dtype=object), 'countrycode': array([b'f', b'c', b'b', b'e'], dtype=object), 'offerid': array([ 672751.,  382005.,  979747.,  658512.], dtype=float32), 'ID': array([b'IDAZpY5NJ', b'ID0uDV0D7', b'IDHnR7Cwy', b'IDY6QhUM7'], dtype=object), 'category': array([ 93286.,  68575.,  74802.,  48430.], dtype=float32), 'devid': array([b'Mobile', b'Mobile', b'Desktop', b'Tablet'], dtype=object), 'merchant': array([ 90093960.,   7122654.,  94555416.,  55420444.], dtype=float32)}, array([[ 0.],\n",
      "       [ 0.],\n",
      "       [ 0.],\n",
      "       [ 0.]], dtype=float32))\n",
      "({'siteid': array([ 4882623.,  9798829.,  1537664.,   561168.], dtype=float32), 'datetime': array([b'2017-01-14 16:33:11', b'2017-01-18 12:39:23',\n",
      "       b'2017-01-16 17:07:38', b'2017-01-12 15:09:29'], dtype=object), 'browserid': array([b'Firefox', b'Chrome', b'Mozilla Firefox', b'Firefox'], dtype=object), 'countrycode': array([b'b', b'b', b'a', b'b'], dtype=object), 'offerid': array([ 182445.,  169973.,   28138.,  328284.], dtype=float32), 'ID': array([b'IDvjJd8RR', b'IDkBa3rus', b'IDiupvDel', b'ID9jVBEA9'], dtype=object), 'category': array([  1678.,    904.,  84974.,  21407.], dtype=float32), 'devid': array([b'Mobile', b'', b'Desktop', b'Mobile'], dtype=object), 'merchant': array([  7864011.,   2050923.,  74699064.,  80645976.], dtype=float32)}, array([[ 0.],\n",
      "       [ 0.],\n",
      "       [ 0.],\n",
      "       [ 0.]], dtype=float32))\n"
     ]
    }
   ],
   "source": [
    "for i in range(10):\n",
    "    print(sess.run(next_element))"
   ]
  },
  {
   "cell_type": "code",
   "execution_count": null,
   "metadata": {
    "collapsed": true
   },
   "outputs": [],
   "source": []
  }
 ],
 "metadata": {
  "kernelspec": {
   "display_name": "Python 3",
   "language": "python",
   "name": "python3"
  },
  "language_info": {
   "codemirror_mode": {
    "name": "ipython",
    "version": 3
   },
   "file_extension": ".py",
   "mimetype": "text/x-python",
   "name": "python",
   "nbconvert_exporter": "python",
   "pygments_lexer": "ipython3",
   "version": "3.5.2"
  }
 },
 "nbformat": 4,
 "nbformat_minor": 2
}
